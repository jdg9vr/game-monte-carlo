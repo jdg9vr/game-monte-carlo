{
 "cells": [
  {
   "cell_type": "markdown",
   "id": "45762487-d33f-486d-8e38-2cdea04e3528",
   "metadata": {},
   "source": [
    "# Metadata\n",
    "\n",
    "* Title: **Final Project Report**\n",
    "* Class: DS 5100\n",
    "* Date: 07/15/2022\n",
    "* Student Name: Josh Gen\n",
    "* Student Net ID: jdg9vr\n",
    "* This URL: https://github.com/jdg9vr/game-monte-carlo/blob/main/FinalProjectSubmission.ipynb\n",
    "* GitHub Repo URL: https://github.com/jdg9vr/game-monte-carlo"
   ]
  },
  {
   "cell_type": "markdown",
   "id": "d32cb273-9a40-4909-a7ce-51f6e4958d3c",
   "metadata": {},
   "source": [
    "# The Monte Carlo Module"
   ]
  },
  {
   "cell_type": "code",
   "execution_count": null,
   "id": "a0743efc-a785-4b5c-a9e6-b65d4507a67f",
   "metadata": {},
   "outputs": [],
   "source": [
    "import pandas as pd\n",
    "import numpy as np\n",
    "class Die:\n",
    "    '''\n",
    "    This class creates a die with weights and allows for changing of those weights as well as\n",
    "    rolling of that die.\n",
    "    INPUTS: \n",
    "        Faces (numpy array of strings or ints): the names of all the faces of the die\n",
    "    '''\n",
    "    def __init__(self, faces):\n",
    "        self.faces = faces\n",
    "        self.n = len(faces)\n",
    "        self.weights = [1 for i in range(self.n)]\n",
    "        self.__die = pd.DataFrame({'faces':self.faces, 'weights':self.weights})\n",
    "    def change_weight(self, face, new_weight):\n",
    "        '''\n",
    "        PURPOSE:\n",
    "            Change the weight of a specified face\n",
    "        INPUTS:\n",
    "            Face (string/int that matches an initialized face): Name of face to change\n",
    "            New_weight (int/float): New weight to change specified face to\n",
    "        OUTPUTS: No outputs\n",
    "        '''\n",
    "        if face not in self.__die.faces.values:\n",
    "            raise ValueError(f\"{face} is not in die.\")\n",
    "        elif type(new_weight) != int and type(new_weight) != float:\n",
    "            raise TypeError(\"The inputted weight is not a number\")\n",
    "        else:\n",
    "            self.__die.loc[self.__die.faces==face, 'weights'] = new_weight\n",
    "    def roll(self, rolls=1):\n",
    "        '''\n",
    "        PURPOSE:\n",
    "            Roll the die a certain amount of times according to the stored weights\n",
    "        INPUTS: \n",
    "            Rolls (int): Number of rolls of the die (OPTIONAL - defaults to 1)\n",
    "        OUTPUTS:\n",
    "            A list of the results of each roll\n",
    "        '''\n",
    "        return [self.__die.faces.sample(weights=self.__die.weights).values[0] for i in range(rolls)]\n",
    "    def show_die(self):\n",
    "        '''\n",
    "        PURPOSE:\n",
    "            Show the die's faces and weights\n",
    "        INPUTS: No inputs\n",
    "        OUTPUTS:\n",
    "            Pandas DataFrame of the die's faces and weights in seperate columns\n",
    "        '''\n",
    "        return self.__die\n",
    "\n",
    "\n",
    "class Game:\n",
    "    '''\n",
    "    This class creates a game in which any number of already specified die are rolled a specified\n",
    "    amount of times and resutls can be shown in two different formats.\n",
    "    INPUTS: \n",
    "        die_list (list): a list of already initialized die using the Die class.\n",
    "    '''\n",
    "    def __init__(self, die_list):\n",
    "        self.die_list = die_list\n",
    "    def play(self, n_times):\n",
    "        '''\n",
    "        PURPOSE:\n",
    "            Roll each of the die a specified number of times\n",
    "        INPUTS: \n",
    "            n_times (int): Number of times to roll each die\n",
    "        OUTPUTS: No outputs\n",
    "        '''\n",
    "        self.__roll_results = pd.DataFrame([die.roll(n_times) for die in self.die_list]).T\n",
    "        self.__roll_results.index.name = 'roll'\n",
    "    def show_results(self, view=\"wide\"):\n",
    "        '''\n",
    "        PURPOSE:\n",
    "            Show the game's results\n",
    "        INPUTS: \n",
    "            View (str): Takes two options, wide or narrow, and formats the results accordingly \n",
    "                (OPTIONAL - defaults to wide)\n",
    "                    In wide format, the columns are the die and the rows are the roll numbers\n",
    "                    In narrow format, the index has both the die and roll number and there is a sole column for face rolled\n",
    "        OUTPUTS:\n",
    "            Pandas DataFrame of the faces rolled in specified view format\n",
    "        '''\n",
    "        if view == 'wide':\n",
    "            return self.__roll_results\n",
    "        elif view == 'narrow':\n",
    "            return self.__roll_results.stack()\n",
    "        else:\n",
    "            raise ValueError(\"The inputted view format is not applicable, try \\\"wide\\\" or \\\"narrow\\\"\")\n",
    "\n",
    "\n",
    "class Analyzer:\n",
    "    '''\n",
    "    PURPOSE:\n",
    "        This class takes a game object and performs analyses on it, including number of jackpots,\n",
    "        number of unique combinations, and a sparse dataset of counts of each face by roll.\n",
    "    INPUTS:\n",
    "        Game object\n",
    "    '''\n",
    "    def __init__(self, game, n_times):\n",
    "        self.game = game\n",
    "        self.game.play(n_times)\n",
    "        self.game_results = self.game.show_results()\n",
    "    def jackpot(self):\n",
    "        '''\n",
    "        PURPOSE:\n",
    "            Count the amount of jackpots in the game, as defined as when all die in a roll have the same face.\n",
    "        INPUTS: No inputs\n",
    "        OUTPUTS:\n",
    "            The count of jackpots as an integer\n",
    "        '''\n",
    "        self.jackpot_count = 0\n",
    "        self.jackpots = pd.DataFrame()\n",
    "        for i in range(len(self.game_results)):\n",
    "            if len(self.game_results.iloc[i,:].unique()) == 1:\n",
    "                self.jackpot_count += 1\n",
    "                self.jackpots = pd.concat([self.jackpots, pd.DataFrame(self.game_results.iloc[i,:]).T])\n",
    "        return self.jackpot_count\n",
    "    def combo(self):\n",
    "        '''\n",
    "        PURPOSE:\n",
    "            Show a table that has the unique counts of each combination of rolls that was rolled.\n",
    "        INPUTS: No inputs\n",
    "        OUTPUTS:\n",
    "            A dataframe of counts of unique rolls (order does not matter)\n",
    "        '''\n",
    "        self.combos = self.game_results.apply(lambda x: pd.Series(sorted(x)), 1).value_counts().to_frame('size')\n",
    "        return self.combos\n",
    "    def face_counts(self):\n",
    "        '''\n",
    "        PURPOSE: Show a table of counts of each face on each roll\n",
    "        INPUTS: No inputs\n",
    "        OUTPUTS:\n",
    "            A sparse dataframe of counts of each face on each roll\n",
    "        '''\n",
    "        self.face_counts_per_roll = self.game_results.apply(lambda x: x.value_counts(), 1).fillna(0)\n",
    "        return self.face_counts_per_roll\n"
   ]
  },
  {
   "cell_type": "markdown",
   "id": "4c81c4f0-b6ff-46ab-ba2c-9de7f0179715",
   "metadata": {},
   "source": [
    "# Test Module"
   ]
  },
  {
   "cell_type": "code",
   "execution_count": null,
   "id": "14b878d8-258b-4cf2-ad88-b8ee90d43977",
   "metadata": {},
   "outputs": [],
   "source": [
    "import pandas as pd\n",
    "import numpy as np\n",
    "import unittest\n",
    "from game_monte_carlo.montecarlo import Die\n",
    "from game_monte_carlo.montecarlo import Game\n",
    "from game_monte_carlo.montecarlo import Analyzer\n",
    "\n",
    "class MontecarloTestSuites(unittest.TestCase):\n",
    "    def test_1_show_weights(self):\n",
    "        '''\n",
    "        PURPOSE:\n",
    "            Test the show weights function\n",
    "        INPUTS: No inputs\n",
    "        OUTPUTS:\n",
    "            Ok for successful test\n",
    "        '''\n",
    "        # test that show_weights shows the die weights\n",
    "        myDie = Die(np.array(['first', 'second', 'third', 'fourth', 'fifth']))\n",
    "        \n",
    "        expected = pd.DataFrame({'faces':['first', 'second', 'third', 'fourth', 'fifth'], \n",
    "                                 'weights':[1, 1, 1, 1, 1]})\n",
    "        check = myDie.show_die().equals(expected)\n",
    "        self.assertTrue(check)\n",
    "    def test_2_change_weight(self):\n",
    "        '''\n",
    "        PURPOSE:\n",
    "            Test the change function including errors\n",
    "        INPUTS: No inputs\n",
    "        OUTPUTS:\n",
    "            Ok for successful test\n",
    "        '''\n",
    "        # change weight and see if it was changed\n",
    "        myDie = Die(np.array(['first', 'second', 'third', 'fourth', 'fifth']))\n",
    "        myDie.change_weight('first', 100)\n",
    "        \n",
    "        expected = 100\n",
    "        self.assertEqual(myDie.show_die()['weights'].values[0], expected)\n",
    "        with self.assertRaises(ValueError):\n",
    "            myDie.change_weight('whale', 100)\n",
    "        with self.assertRaises(TypeError):\n",
    "            myDie.change_weight('first', 'new')\n",
    "    def test_3_roll(self):\n",
    "        '''\n",
    "        PURPOSE:\n",
    "            Test the roll function\n",
    "        INPUTS: No inputs\n",
    "        OUTPUTS:\n",
    "            Ok for successful test\n",
    "        '''\n",
    "        myDie = Die(np.array(['first', 'second']))\n",
    "        myDie.change_weight('second', 0)\n",
    "        roll_1 = myDie.roll()[0]\n",
    "        self.assertEqual(roll_1, 'first')\n",
    "    def test_4_play_and_show_results(self):\n",
    "        '''\n",
    "        PURPOSE:\n",
    "            Test the play function and show results function and errors\n",
    "        INPUTS: No inputs\n",
    "        OUTPUTS:\n",
    "            Ok for successful test\n",
    "        '''\n",
    "        unfair_coin = Die(['heads', 'tails'])\n",
    "        unfair_coin.change_weight('tails', 0)\n",
    "        unfair_die = Die([1, 2, 3, 4, 5,6])\n",
    "        unfair_die.change_weight(1, 0)\n",
    "        unfair_die.change_weight(2, 0)\n",
    "        unfair_die.change_weight(3, 0)\n",
    "        unfair_die.change_weight(4, 0)\n",
    "        unfair_die.change_weight(5, 0)\n",
    "        myGame = Game([unfair_coin, unfair_die])\n",
    "        myGame.play(10)\n",
    "        \n",
    "        expected = pd.DataFrame([np.repeat('heads', 10), np.repeat(6, 10)]).T\n",
    "        check = myGame.show_results().equals(expected)\n",
    "        self.assertTrue(check)\n",
    "        \n",
    "        with self.assertRaises(ValueError):\n",
    "            myGame.show_results('thin')\n",
    "    def test_5_jackpot(self):\n",
    "        '''\n",
    "        PURPOSE:\n",
    "            Test the jackpot function\n",
    "        INPUTS: No inputs\n",
    "        OUTPUTS:\n",
    "            Ok for successful test\n",
    "        '''\n",
    "        unfair_die = Die([1, 2, 3, 4, 5, 6])\n",
    "        unfair_die.change_weight(1, 0)\n",
    "        unfair_die.change_weight(2, 0)\n",
    "        unfair_die.change_weight(3, 0)\n",
    "        unfair_die.change_weight(4, 0)\n",
    "        unfair_die.change_weight(5, 0)\n",
    "        unfair_die2 = Die([1, 2, 3, 4, 5, 6])\n",
    "        unfair_die2.change_weight(1, 0)\n",
    "        unfair_die2.change_weight(2, 0)\n",
    "        unfair_die2.change_weight(3, 0)\n",
    "        unfair_die2.change_weight(4, 0)\n",
    "        unfair_die2.change_weight(6, 0)\n",
    "        myGameDie = Game([unfair_die, unfair_die2])\n",
    "        myGameDie.play(10)\n",
    "        dieAnalysis = Analyzer(myGameDie, 100)\n",
    "        check = dieAnalysis.jackpot()==0\n",
    "        self.assertTrue(check)\n",
    "    def test_6_jackpots(self):\n",
    "        '''\n",
    "        PURPOSE:\n",
    "            Test the jackpot dataframe resulting from the jackpot function\n",
    "        INPUTS: No inputs\n",
    "        OUTPUTS:\n",
    "            Ok for successful test\n",
    "        '''\n",
    "        fair_die = Die([1, 2, 3, 4, 5, 6])\n",
    "        unfair_die = Die([1, 2, 3, 4, 5, 6])\n",
    "        unfair_die.change_weight(1, 0)\n",
    "        unfair_die.change_weight(2, 0)\n",
    "        unfair_die.change_weight(3, 0)\n",
    "        unfair_die.change_weight(4, 0)\n",
    "        unfair_die.change_weight(5, 0)\n",
    "        kinda_fair_die = Die([1, 2, 3, 4, 5, 6])\n",
    "        kinda_fair_die.change_weight(1, 2)\n",
    "        kinda_fair_die.change_weight(3, 2)\n",
    "        kinda_fair_die.change_weight(6, 2)\n",
    "        myGameDie = Game([fair_die, unfair_die, kinda_fair_die])\n",
    "        myGameDie.play(10)\n",
    "        dieAnalysis = Analyzer(myGameDie, 1000)\n",
    "        dieAnalysis.jackpot()\n",
    "        check = dieAnalysis.jackpots.apply(lambda x: len(x.unique())-1, 1).sum() == 0\n",
    "        self.assertTrue(check)\n",
    "    def test_7_combo(self):\n",
    "        '''\n",
    "        PURPOSE:\n",
    "            Test the combo function\n",
    "        INPUTS: No inputs\n",
    "        OUTPUTS:\n",
    "            Ok for successful test\n",
    "        '''\n",
    "        fair_die = Die([1, 2, 3, 4, 5, 6])\n",
    "        unfair_die = Die([1, 2, 3, 4, 5, 6])\n",
    "        unfair_die.change_weight(1, 0)\n",
    "        unfair_die.change_weight(2, 0)\n",
    "        unfair_die.change_weight(3, 0)\n",
    "        unfair_die.change_weight(4, 0)\n",
    "        unfair_die.change_weight(5, 0)\n",
    "        kinda_fair_die = Die([1, 2, 3, 4, 5, 6])\n",
    "        kinda_fair_die.change_weight(1, 2)\n",
    "        kinda_fair_die.change_weight(3, 2)\n",
    "        kinda_fair_die.change_weight(6, 2)\n",
    "        myGameDie = Game([fair_die, unfair_die, kinda_fair_die])\n",
    "        myGameDie.play(10)\n",
    "        dieAnalysis = Analyzer(myGameDie, 1000)\n",
    "        self.assertTrue(isinstance(dieAnalysis.combo().index, pd.MultiIndex))\n",
    "    def test_8_face_counts(self):\n",
    "        '''\n",
    "        PURPOSE:\n",
    "            Test the face counts function\n",
    "        INPUTS: No inputs\n",
    "        OUTPUTS:\n",
    "            Ok for successful test\n",
    "        '''\n",
    "        unfair_die = Die([1, 2, 3, 4, 5, 6])\n",
    "        unfair_die.change_weight(1, 0)\n",
    "        unfair_die.change_weight(2, 0)\n",
    "        unfair_die.change_weight(3, 0)\n",
    "        unfair_die.change_weight(4, 0)\n",
    "        unfair_die.change_weight(5, 0)\n",
    "        unfair_die2 = Die([1, 2, 3, 4, 5, 6])\n",
    "        unfair_die2.change_weight(1, 0)\n",
    "        unfair_die2.change_weight(2, 0)\n",
    "        unfair_die2.change_weight(3, 0)\n",
    "        unfair_die2.change_weight(4, 0)\n",
    "        unfair_die2.change_weight(6, 0)\n",
    "        game_dies = [unfair_die, unfair_die2]\n",
    "        myGameDie = Game(game_dies)\n",
    "        myGameDie.play(10)\n",
    "        n = 100\n",
    "        dieAnalysis = Analyzer(myGameDie, n)\n",
    "        check = dieAnalysis.face_counts().shape == (n, len(game_dies))\n",
    "        self.assertTrue(check)\n",
    "        \n",
    "\n",
    "if __name__ == '__main__':\n",
    "    unittest.main(verbosity=3)"
   ]
  },
  {
   "cell_type": "markdown",
   "id": "3c2b90b6-ac8b-43fa-a069-cb5b0b22aee0",
   "metadata": {},
   "source": [
    "# Test Results"
   ]
  },
  {
   "cell_type": "markdown",
   "id": "c80201af-9579-4a2c-bbc7-805e420d156c",
   "metadata": {},
   "source": [
    "test_1_show_weights (__main__.MontecarloTestSuites)\n",
    "PURPOSE: ... ok\n",
    "test_2_change_weight (__main__.MontecarloTestSuites)\n",
    "PURPOSE: ... ok\n",
    "test_3_roll (__main__.MontecarloTestSuites)\n",
    "PURPOSE: ... ok\n",
    "test_4_play_and_show_results (__main__.MontecarloTestSuites)\n",
    "PURPOSE: ... ok\n",
    "test_5_jackpot (__main__.MontecarloTestSuites)\n",
    "PURPOSE: ... ok\n",
    "test_6_jackpots (__main__.MontecarloTestSuites)\n",
    "PURPOSE: ... ok\n",
    "test_7_combo (__main__.MontecarloTestSuites)\n",
    "PURPOSE: ... ok\n",
    "test_8_face_counts (__main__.MontecarloTestSuites)\n",
    "PURPOSE: ... ok\n",
    "\n",
    "----------------------------------------------------------------------\n",
    "Ran 8 tests in 2.414s\n",
    "\n",
    "OK"
   ]
  },
  {
   "cell_type": "markdown",
   "id": "7c44695d-d1b3-4edf-9f94-e64d7446f199",
   "metadata": {},
   "source": [
    "# Scenarios\n",
    "\n",
    "Code blocks with your scenarios and their outputs. \n",
    "\n",
    "These should have appropriate import statements even though the code is now in the same notebook as the classes it calls. "
   ]
  },
  {
   "cell_type": "markdown",
   "id": "90b7abd8-f4a7-4d71-bc9a-746640516b98",
   "metadata": {},
   "source": [
    "## Scenario 1"
   ]
  },
  {
   "cell_type": "code",
   "execution_count": 1,
   "id": "815eae36-4357-442a-894e-d056ebb8f998",
   "metadata": {},
   "outputs": [
    {
     "name": "stdout",
     "output_type": "stream",
     "text": [
      "Montecarlo game loaded!\n"
     ]
    },
    {
     "data": {
      "text/plain": [
       "0.243"
      ]
     },
     "execution_count": 1,
     "metadata": {},
     "output_type": "execute_result"
    }
   ],
   "source": [
    "import pandas as pd\n",
    "import numpy as np\n",
    "from game_monte_carlo import Die\n",
    "from game_monte_carlo import Game\n",
    "from game_monte_carlo import Analyzer\n",
    "import matplotlib.pyplot as plt\n",
    "fair_coin = Die(np.array(['heads', 'tails']))\n",
    "unfair_coin = Die(np.array(['heads', 'tails']))\n",
    "unfair_coin.change_weight('heads', 5)\n",
    "fairGame = Game([fair_coin, fair_coin, fair_coin])\n",
    "unfairGame = Game([unfair_coin, unfair_coin, fair_coin])\n",
    "fairAnalyzer = Analyzer(fairGame, 1000)\n",
    "unfairAnalyzer = Analyzer(unfairGame, 1000)\n",
    "fairAnalyzer.jackpot()/1000"
   ]
  },
  {
   "cell_type": "code",
   "execution_count": 2,
   "id": "36ecc20d",
   "metadata": {},
   "outputs": [
    {
     "data": {
      "text/plain": [
       "0.393"
      ]
     },
     "execution_count": 2,
     "metadata": {},
     "output_type": "execute_result"
    }
   ],
   "source": [
    "unfairAnalyzer.jackpot()/1000"
   ]
  },
  {
   "cell_type": "code",
   "execution_count": 3,
   "id": "e6898ba6",
   "metadata": {},
   "outputs": [
    {
     "data": {
      "image/png": "[encoded data removed]",
      "text/plain": [
       "<Figure size 432x288 with 1 Axes>"
      ]
     },
     "metadata": {
      "needs_background": "light"
     },
     "output_type": "display_data"
    }
   ],
   "source": [
    "plt.bar(['Fair Coins', 'Unfair Coins'], [fairAnalyzer.jackpot()/1000, unfairAnalyzer.jackpot()/1000]);\n",
    "plt.xlabel(\"Coins Used in Game\")\n",
    "plt.ylabel(\"Relative Frequency of Jackpot\")\n",
    "plt.title('Jackpot Frequency for Fair and Unfair Games');"
   ]
  },
  {
   "cell_type": "markdown",
   "id": "92793a09-0024-465d-b272-2ef8b9a6c21c",
   "metadata": {},
   "source": [
    "## Scenario 2"
   ]
  },
  {
   "cell_type": "code",
   "execution_count": 4,
   "id": "7218e98e-6ec0-4766-8793-5b386ce6ee24",
   "metadata": {},
   "outputs": [
    {
     "data": {
      "text/plain": [
       "0.0005"
      ]
     },
     "execution_count": 4,
     "metadata": {},
     "output_type": "execute_result"
    }
   ],
   "source": [
    "fairDie = Die([1, 2, 3, 4, 5, 6])\n",
    "unfairDie1 = Die([1, 2, 3, 4, 5, 6])\n",
    "unfairDie1.change_weight(6, 5)\n",
    "unfairDie2 = Die([1, 2, 3, 4, 5, 6])\n",
    "unfairDie2.change_weight(1, 5)\n",
    "fairDieGame = Game([fairDie, fairDie, fairDie, fairDie, fairDie])\n",
    "unfairDieGame = Game([fairDie, fairDie, unfairDie1, unfairDie1, unfairDie2])\n",
    "fairDieAnalyzer = Analyzer(fairDieGame, 10000)\n",
    "unfairDieAnalyzer = Analyzer(unfairDieGame, 10000)\n",
    "fairDieAnalyzer.jackpot()/10000"
   ]
  },
  {
   "cell_type": "code",
   "execution_count": 5,
   "id": "97293d5d",
   "metadata": {},
   "outputs": [
    {
     "data": {
      "text/plain": [
       "0.0014"
      ]
     },
     "execution_count": 5,
     "metadata": {},
     "output_type": "execute_result"
    }
   ],
   "source": [
    "unfairDieAnalyzer.jackpot()/10000"
   ]
  },
  {
   "cell_type": "code",
   "execution_count": 6,
   "id": "fad12036",
   "metadata": {},
   "outputs": [
    {
     "data": {
      "image/png": "[encoded data removed]",
      "text/plain": [
       "<Figure size 432x288 with 1 Axes>"
      ]
     },
     "metadata": {
      "needs_background": "light"
     },
     "output_type": "display_data"
    }
   ],
   "source": [
    "plt.bar(['Fair Game', 'Unfair Game'], [fairDieAnalyzer.jackpot()/10000, unfairDieAnalyzer.jackpot()/10000]);\n",
    "plt.xlabel(\"Game Played\")\n",
    "plt.ylabel(\"Relative Frequency of Jackpot\")\n",
    "plt.title('Jackpot Frequency for Fair and Unfair Games');"
   ]
  },
  {
   "cell_type": "code",
   "execution_count": 7,
   "id": "132ce3cb",
   "metadata": {},
   "outputs": [
    {
     "data": {
      "image/png": "[encoded data removed]",
      "text/plain": [
       "<Figure size 432x288 with 1 Axes>"
      ]
     },
     "metadata": {
      "needs_background": "light"
     },
     "output_type": "display_data"
    }
   ],
   "source": [
    "frequent_fair_combos = fairDieAnalyzer.combo()[0:10]\n",
    "plt.bar([\"\".join(str(tup)) for tup in frequent_fair_combos.index.tolist()], frequent_fair_combos['size'].to_list());\n",
    "plt.xticks(rotation=45)\n",
    "plt.xlabel(\"Die Roll Combination\")\n",
    "plt.ylabel(\"Count\")\n",
    "plt.title('Bar Plot of Most Common Fair Game Combinations');"
   ]
  },
  {
   "cell_type": "code",
   "execution_count": 8,
   "id": "9d34e851",
   "metadata": {},
   "outputs": [
    {
     "data": {
      "image/png": "[encoded data removed]",
      "text/plain": [
       "<Figure size 432x288 with 1 Axes>"
      ]
     },
     "metadata": {
      "needs_background": "light"
     },
     "output_type": "display_data"
    }
   ],
   "source": [
    "frequent_unfair_combos = unfairDieAnalyzer.combo()[0:10]\n",
    "plt.bar([\"\".join(str(tup)) for tup in frequent_unfair_combos.index.tolist()], frequent_unfair_combos['size'].to_list());\n",
    "plt.xticks(rotation=45)\n",
    "plt.xlabel(\"Die Roll Combination\")\n",
    "plt.ylabel(\"Count\")\n",
    "plt.title('Bar Plot of Most Common Unfair Game Combinations');"
   ]
  },
  {
   "cell_type": "markdown",
   "id": "1b47f5b6-188d-4d24-9c2f-687b430e6624",
   "metadata": {},
   "source": [
    "## Scenario 3"
   ]
  },
  {
   "cell_type": "code",
   "execution_count": 9,
   "id": "ad6d2878-f832-4065-98a3-1ea78ff0a6d3",
   "metadata": {},
   "outputs": [
    {
     "data": {
      "text/html": [
       "<div>\n",
       "<style scoped>\n",
       "    .dataframe tbody tr th:only-of-type {\n",
       "        vertical-align: middle;\n",
       "    }\n",
       "\n",
       "    .dataframe tbody tr th {\n",
       "        vertical-align: top;\n",
       "    }\n",
       "\n",
       "    .dataframe thead th {\n",
       "        text-align: right;\n",
       "    }\n",
       "</style>\n",
       "<table border=\"1\" class=\"dataframe\">\n",
       "  <thead>\n",
       "    <tr style=\"text-align: right;\">\n",
       "      <th></th>\n",
       "      <th>word</th>\n",
       "    </tr>\n",
       "  </thead>\n",
       "  <tbody>\n",
       "    <tr>\n",
       "      <th>2436</th>\n",
       "      <td>dorty</td>\n",
       "    </tr>\n",
       "  </tbody>\n",
       "</table>\n",
       "</div>"
      ],
      "text/plain": [
       "       word\n",
       "2436  dorty"
      ]
     },
     "execution_count": 9,
     "metadata": {},
     "output_type": "execute_result"
    }
   ],
   "source": [
    "letterDie = Die([\"a\", \"b\", \"c\", \"d\", \"e\", \"f\", \"g\", \"h\", \"i\", \"j\", \"k\", \"l\", \"m\", \"n\", \"o\", \n",
    "                 \"p\", \"q\", \"r\", \"s\", \"t\", 'u', 'v', 'w', 'x', 'y', \"z\"])\n",
    "letterDie.weights = [8.4966, 2.0720, 4.5388, 3.3844, 11.1607, 1.8121, 2.4705, 3.0034, 7.5448, \n",
    "                     0.1965, 1.1016, 5.4893, 3.0129, 6.6544, 7.1635, 3.1671, 0.1962, 7.5809, \n",
    "                     5.7351, 6.9509, 3.6308, 1.0074, 1.2899, 0.2902, 1.7779 ,0.2722]\n",
    "letterDieGame = Game([letterDie, letterDie, letterDie, letterDie, letterDie])\n",
    "letterDieAnalyzer = Analyzer(letterDieGame, 1000)\n",
    "faces = [\"\".join(word) for word in letterDieAnalyzer.combo().index.tolist()]\n",
    "wordle_guesses = pd.read_csv('valid_guesses.csv')\n",
    "wordle_guesses[wordle_guesses['word'].isin(faces)]"
   ]
  },
  {
   "cell_type": "code",
   "execution_count": 10,
   "id": "3d0f9305",
   "metadata": {},
   "outputs": [
    {
     "data": {
      "text/plain": [
       "0.001"
      ]
     },
     "execution_count": 10,
     "metadata": {},
     "output_type": "execute_result"
    }
   ],
   "source": [
    "len(wordle_guesses[wordle_guesses['word'].isin(faces)])/1000"
   ]
  },
  {
   "cell_type": "markdown",
   "id": "6ced706c-19e7-4e79-b171-bfb076f822b4",
   "metadata": {},
   "source": [
    "# Directory Listing\n",
    "\n",
    "A code block that executes the following bash command: \n",
    "\n",
    "```bash\n",
    "!ls -lRF -o\n",
    "```"
   ]
  },
  {
   "cell_type": "code",
   "execution_count": 11,
   "id": "5dbd35c2-e479-4179-b792-997d4293ba96",
   "metadata": {},
   "outputs": [
    {
     "name": "stdout",
     "output_type": "stream",
     "text": [
      "total 352\n",
      "-rw-r--r--  1 joshgen   4596 Jul 11 11:18 FinalProjectSubmission.ipynb\n",
      "-rw-r--r--  1 joshgen   1065 Jul  8 09:32 LICENSE\n",
      "-rw-r--r--  1 joshgen     18 Jul  8 09:32 README.md\n",
      "drwxr-xr-x@ 4 joshgen    128 Jul 14 10:42 \u001b[34m__pycache__\u001b[m\u001b[m/\n",
      "drwxr-xr-x@ 3 joshgen     96 Jul 14 10:39 \u001b[34mgame-monte-carlo\u001b[m\u001b[m/\n",
      "drwxr-xr-x@ 5 joshgen    160 Jul 14 18:34 \u001b[34mgame_monte_carlo\u001b[m\u001b[m/\n",
      "drwxr-xr-x@ 6 joshgen    192 Jul 14 10:32 \u001b[34mgame_monte_carlo.egg-info\u001b[m\u001b[m/\n",
      "-rw-r--r--  1 joshgen   6460 Jul 14 10:41 montecarlo_tests.py\n",
      "-rw-r--r--@ 1 joshgen    627 Jul 14 10:42 montecarlo_tests.txt\n",
      "-rw-r--r--  1 joshgen  69337 Jul 14 18:35 scenarios.ipynb\n",
      "-rw-r--r--  1 joshgen    301 Jul 14 10:39 setup.py\n",
      "-rw-r--r--@ 1 joshgen  74605 Jul 14 09:56 valid_guesses.csv\n",
      "\n",
      "./__pycache__:\n",
      "total 32\n",
      "-rw-r--r--  1 joshgen  6685 Jul 13 22:01 montecarlo.cpython-310.pyc\n",
      "-rw-r--r--  1 joshgen  5863 Jul 14 10:42 montecarlo_tests.cpython-310.pyc\n",
      "\n",
      "./game-monte-carlo:\n",
      "total 0\n",
      "drwxr-xr-x@ 4 joshgen  128 Jul 14 10:31 \u001b[34m__pycache__\u001b[m\u001b[m/\n",
      "\n",
      "./game-monte-carlo/__pycache__:\n",
      "total 24\n",
      "-rw-r--r--  1 joshgen   311 Jul 14 10:31 __init__.cpython-310.pyc\n",
      "-rw-r--r--  1 joshgen  6702 Jul 14 10:31 montecarlo.cpython-310.pyc\n",
      "\n",
      "./game_monte_carlo:\n",
      "total 24\n",
      "-rw-r--r--  1 joshgen   123 Jul 14 10:41 __init__.py\n",
      "drwxr-xr-x@ 4 joshgen   128 Jul 14 18:34 \u001b[34m__pycache__\u001b[m\u001b[m/\n",
      "-rw-r--r--  1 joshgen  5254 Jul 14 18:34 montecarlo.py\n",
      "\n",
      "./game_monte_carlo/__pycache__:\n",
      "total 24\n",
      "-rw-r--r--  1 joshgen   311 Jul 14 10:41 __init__.cpython-310.pyc\n",
      "-rw-r--r--  1 joshgen  6702 Jul 14 18:34 montecarlo.cpython-310.pyc\n",
      "\n",
      "./game_monte_carlo.egg-info:\n",
      "total 32\n",
      "-rw-r--r--  1 joshgen  224 Jul 14 10:32 PKG-INFO\n",
      "-rw-r--r--  1 joshgen  246 Jul 14 10:32 SOURCES.txt\n",
      "-rw-r--r--  1 joshgen    1 Jul 14 10:32 dependency_links.txt\n",
      "-rw-r--r--  1 joshgen   17 Jul 14 10:32 top_level.txt\n"
     ]
    }
   ],
   "source": [
    "!ls -lRF -o"
   ]
  },
  {
   "cell_type": "markdown",
   "id": "c4df835c-3cd7-4c74-a4de-51638607680b",
   "metadata": {
    "tags": []
   },
   "source": [
    "# Installation Output Listing\n",
    "    \n",
    "A code block that executes the code to install your your package and outputs a successful installation."
   ]
  },
  {
   "cell_type": "code",
   "execution_count": 13,
   "id": "3609769a-c338-4746-8607-d124caf76ed8",
   "metadata": {},
   "outputs": [
    {
     "name": "stdout",
     "output_type": "stream",
     "text": [
      "\u001b[33mDEPRECATION: Configuring installation scheme with distutils config files is deprecated and will no longer work in the near future. If you are using a Homebrew or Linuxbrew Python, please see discussion at https://github.com/Homebrew/homebrew-core/issues/76621\u001b[0m\u001b[33m\n",
      "\u001b[0mObtaining file:///Users/joshgen/Documents/Code/MSDS/game-monte-carlo\n",
      "  Preparing metadata (setup.py) ... \u001b[?25ldone\n",
      "\u001b[?25hInstalling collected packages: game-monte-carlo\n",
      "  Attempting uninstall: game-monte-carlo\n",
      "    Found existing installation: game-monte-carlo 0.1\n",
      "    Uninstalling game-monte-carlo-0.1:\n",
      "      Successfully uninstalled game-monte-carlo-0.1\n",
      "\u001b[33m  DEPRECATION: Configuring installation scheme with distutils config files is deprecated and will no longer work in the near future. If you are using a Homebrew or Linuxbrew Python, please see discussion at https://github.com/Homebrew/homebrew-core/issues/76621\u001b[0m\u001b[33m\n",
      "\u001b[0m  Running setup.py develop for game-monte-carlo\n",
      "Successfully installed game-monte-carlo-0.1\n"
     ]
    }
   ],
   "source": [
    "!pip3 install -e ."
   ]
  }
 ],
 "metadata": {
  "kernelspec": {
   "display_name": "Python 3.10.4 64-bit",
   "language": "python",
   "name": "python3"
  },
  "language_info": {
   "codemirror_mode": {
    "name": "ipython",
    "version": 3
   },
   "file_extension": ".py",
   "mimetype": "text/x-python",
   "name": "python",
   "nbconvert_exporter": "python",
   "pygments_lexer": "ipython3",
   "version": "3.10.4"
  },
  "vscode": {
   "interpreter": {
    "hash": "aee8b7b246df8f9039afb4144a1f6fd8d2ca17a180786b69acc140d282b71a49"
   }
  },
  "widgets": {
   "application/vnd.jupyter.widget-state+json": {
    "state": {},
    "version_major": 2,
    "version_minor": 0
   }
  }
 },
 "nbformat": 4,
 "nbformat_minor": 5
}
